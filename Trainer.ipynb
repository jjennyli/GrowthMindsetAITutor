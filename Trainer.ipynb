{
 "cells": [
  {
   "cell_type": "code",
   "execution_count": 5,
   "id": "6d8ba552",
   "metadata": {},
   "outputs": [],
   "source": [
    "from pytube import YouTube\n",
    "import os\n",
    "import speech_recognition as sr\n",
    "from pydub import AudioSegment\n",
    "from pydub.silence import split_on_silence\n",
    "import wave\n",
    "import io\n",
    "import csv\n",
    "import subprocess\n",
    "import pandas as pd\n",
    "import time"
   ]
  },
  {
   "cell_type": "code",
   "execution_count": 6,
   "id": "1c01a0c2",
   "metadata": {
    "scrolled": true
   },
   "outputs": [
    {
     "data": {
      "text/html": [
       "<div>\n",
       "<style scoped>\n",
       "    .dataframe tbody tr th:only-of-type {\n",
       "        vertical-align: middle;\n",
       "    }\n",
       "\n",
       "    .dataframe tbody tr th {\n",
       "        vertical-align: top;\n",
       "    }\n",
       "\n",
       "    .dataframe thead th {\n",
       "        text-align: right;\n",
       "    }\n",
       "</style>\n",
       "<table border=\"1\" class=\"dataframe\">\n",
       "  <thead>\n",
       "    <tr style=\"text-align: right;\">\n",
       "      <th></th>\n",
       "      <th>Unnamed: 0</th>\n",
       "      <th>id</th>\n",
       "      <th>context</th>\n",
       "      <th>correctness</th>\n",
       "      <th>growth</th>\n",
       "      <th>text</th>\n",
       "    </tr>\n",
       "  </thead>\n",
       "  <tbody>\n",
       "    <tr>\n",
       "      <th>0</th>\n",
       "      <td>0</td>\n",
       "      <td>1</td>\n",
       "      <td>homework</td>\n",
       "      <td>correct</td>\n",
       "      <td>8</td>\n",
       "      <td>good job answering all the questions</td>\n",
       "    </tr>\n",
       "    <tr>\n",
       "      <th>1</th>\n",
       "      <td>1</td>\n",
       "      <td>2</td>\n",
       "      <td>paper</td>\n",
       "      <td>correct</td>\n",
       "      <td>9</td>\n",
       "      <td>you are a natural writer</td>\n",
       "    </tr>\n",
       "    <tr>\n",
       "      <th>2</th>\n",
       "      <td>2</td>\n",
       "      <td>3</td>\n",
       "      <td>homework</td>\n",
       "      <td>partial</td>\n",
       "      <td>5</td>\n",
       "      <td>received</td>\n",
       "    </tr>\n",
       "    <tr>\n",
       "      <th>3</th>\n",
       "      <td>3</td>\n",
       "      <td>4</td>\n",
       "      <td>paper</td>\n",
       "      <td>incorrect</td>\n",
       "      <td>2</td>\n",
       "      <td>bad writing</td>\n",
       "    </tr>\n",
       "    <tr>\n",
       "      <th>4</th>\n",
       "      <td>4</td>\n",
       "      <td>5</td>\n",
       "      <td>homework</td>\n",
       "      <td>correct</td>\n",
       "      <td>8</td>\n",
       "      <td>keep up the good work!</td>\n",
       "    </tr>\n",
       "  </tbody>\n",
       "</table>\n",
       "</div>"
      ],
      "text/plain": [
       "   Unnamed: 0  id   context correctness  growth  \\\n",
       "0           0   1  homework     correct       8   \n",
       "1           1   2     paper     correct       9   \n",
       "2           2   3  homework     partial       5   \n",
       "3           3   4     paper   incorrect       2   \n",
       "4           4   5  homework     correct       8   \n",
       "\n",
       "                                   text  \n",
       "0  good job answering all the questions  \n",
       "1              you are a natural writer  \n",
       "2                              received  \n",
       "3                           bad writing  \n",
       "4                keep up the good work!  "
      ]
     },
     "execution_count": 6,
     "metadata": {},
     "output_type": "execute_result"
    }
   ],
   "source": [
    "phrases = pd.read_csv('TextData/phrases.csv')\n",
    "phrases.head()"
   ]
  },
  {
   "cell_type": "code",
   "execution_count": 7,
   "id": "84be1654",
   "metadata": {
    "scrolled": true
   },
   "outputs": [
    {
     "name": "stdout",
     "output_type": "stream",
     "text": [
      "['homework', 'paper', 'general']\n",
      "['correct', 'partial', 'incorrect']\n"
     ]
    }
   ],
   "source": [
    "CONTEXTS = phrases['context'].unique().tolist()\n",
    "print(CONTEXTS)\n",
    "CORRECTNESS = phrases['correctness'].unique().tolist()\n",
    "print(CORRECTNESS)\n"
   ]
  },
  {
   "cell_type": "code",
   "execution_count": 8,
   "id": "b2ce3697",
   "metadata": {},
   "outputs": [],
   "source": [
    "def get_text(file):\n",
    "    r = sr.Recognizer()\n",
    "    with sr.AudioFile(file) as source:\n",
    "        audio = r.record(source)\n",
    "    try:\n",
    "        return r.recognize_google(audio)\n",
    "    except sr.UnknownValueError as ve:\n",
    "        print(\"Warn: unrecognizable phrase\")\n",
    "    except sr.RequestError as re:\n",
    "        print(\"Err: request error\")"
   ]
  },
  {
   "cell_type": "code",
   "execution_count": 9,
   "id": "1ea1052d",
   "metadata": {},
   "outputs": [
    {
     "name": "stdout",
     "output_type": "stream",
     "text": [
      "great work on your paper I really enjoyed your paper good job finishing all the problems\n"
     ]
    }
   ],
   "source": [
    "print(get_text(\"Audio/Test1.wav\"))"
   ]
  },
  {
   "cell_type": "code",
   "execution_count": 10,
   "id": "1984bbda",
   "metadata": {},
   "outputs": [],
   "source": [
    "CACHE = {}\n",
    "#minimum silence duration to detect end of phrase in ms\n",
    "MIN_SILENCE_LEN=1000\n",
    "#the upper bound for how quiet is silent in dFBS\n",
    "SILENCE_THRESH=-32\n",
    "#silence added to the new audio segment in ms\n",
    "KEEP_SILENCE=500\n",
    "#the maximim seconds of audio processed at a time (text-to-speech API cannot handle long audio files)\n",
    "SPLIT_ON= 50\n",
    "def get_lines(fileName):\n",
    "    SPLIT_ON = 10\n",
    "    print('Converting audio to text...')\n",
    "    seg = AudioSegment.from_wav(fileName)\n",
    "    chunks = split_on_silence(seg, min_silence_len=MIN_SILENCE_LEN, silence_thresh=SILENCE_THRESH, keep_silence=KEEP_SILENCE)\n",
    "    lines = []\n",
    "    for i, chunk in enumerate(chunks):\n",
    "        x = io.BytesIO()\n",
    "        chunk.export(x, format='wav')\n",
    "        wav = wave.open(x, 'r')\n",
    "        dur = wav.getnframes() / wav.getframerate()\n",
    "        text = ''\n",
    "        if (dur >= SPLIT_ON):\n",
    "            t = 0\n",
    "            for j in range(1, int(dur / SPLIT_ON)):\n",
    "                y = io.BytesIO()\n",
    "                chunk[t * SPLIT_ON * 1000:j * SPLIT_ON * 1000].export(y, format='wav')\n",
    "                text += str(get_text(y)) + ' '\n",
    "                t = j\n",
    "            y = io.BytesIO()\n",
    "            chunk[t * SPLIT_ON * 1000:int(dur) * 1000].export(y, format='wav')\n",
    "            text += str(get_text(y)) + ' '\n",
    "        else:\n",
    "            x = io.BytesIO()\n",
    "            chunk.export(x, format='wav')\n",
    "            text = str(get_text(x))\n",
    "        if text != 'None':\n",
    "            print('Phrase:\"'+ text+'\"')\n",
    "            entry = input('Enter any key to read phrase (0 to skip, blank for last entry)?')\n",
    "            if entry !='0':\n",
    "                if len(entry) == 0:\n",
    "                    lines.append({'id':hash(text),'text':text, 'context':CACHE['context'],\n",
    "                                  'correct':CACHE['correct'],'growth':CACHE['growth']})\n",
    "                else:\n",
    "                    context =input('Context ('+str(CONTEXTS)+'):').lower()\n",
    "                    correct =input('Correctness ('+str(CORRECTNESS)+'):').lower()\n",
    "                    while correct not in CORRECTNESS:\n",
    "                        correct=input('Enter a valid correctness value:')\n",
    "                    growth =input('Growth Mindset (score from 1 to 10):')\n",
    "                    while int(growth) <1 or int(growth) >10:\n",
    "                        growth=input('Enter score from 1 to 10:')\n",
    "                    CACHE['context']=context\n",
    "                    CACHE['correctness']=correct\n",
    "                    CACHE['growth']=growth\n",
    "                    lines.append({'id':hash(text), 'context':context, 'correctness':correct,'growth':growth,'text':text})\n",
    "    return (lines)"
   ]
  },
  {
   "cell_type": "code",
   "execution_count": 14,
   "id": "e905873a",
   "metadata": {
    "scrolled": true
   },
   "outputs": [
    {
     "name": "stdout",
     "output_type": "stream",
     "text": [
      "Converting audio to text...\n",
      "Phrase:\"great work on your paper\"\n",
      "Enter any key to read phrase (0 to skip, blank for last entry)?e\n",
      "Context (['homework', 'paper', 'general']):paper\n",
      "Correctness (['correct', 'partial', 'incorrect']):correct\n",
      "Growth Mindset (score from 1 to 10):7\n",
      "Phrase:\"I did not like your paper\"\n",
      "Enter any key to read phrase (0 to skip, blank for last entry)?e\n",
      "Context (['homework', 'paper', 'general']):paper\n",
      "Correctness (['correct', 'partial', 'incorrect']):incorrect\n",
      "Growth Mindset (score from 1 to 10):1\n",
      "Phrase:\"good job finishing all the problems\"\n",
      "Enter any key to read phrase (0 to skip, blank for last entry)?e\n",
      "Context (['homework', 'paper', 'general']):homework\n",
      "Correctness (['correct', 'partial', 'incorrect']):correct\n",
      "Growth Mindset (score from 1 to 10):7\n"
     ]
    }
   ],
   "source": [
    "for phrase in get_lines(\"Audio/Test2.wav\"):\n",
    "    phrases.append(phrase,ignore_index=True)"
   ]
  },
  {
   "cell_type": "code",
   "execution_count": 15,
   "id": "077524d6",
   "metadata": {},
   "outputs": [],
   "source": [
    "phrases.to_csv('TextData/phrases.csv')"
   ]
  }
 ],
 "metadata": {
  "kernelspec": {
   "display_name": "Python 3",
   "language": "python",
   "name": "python3"
  },
  "language_info": {
   "codemirror_mode": {
    "name": "ipython",
    "version": 3
   },
   "file_extension": ".py",
   "mimetype": "text/x-python",
   "name": "python",
   "nbconvert_exporter": "python",
   "pygments_lexer": "ipython3",
   "version": "3.9.5"
  }
 },
 "nbformat": 4,
 "nbformat_minor": 5
}
