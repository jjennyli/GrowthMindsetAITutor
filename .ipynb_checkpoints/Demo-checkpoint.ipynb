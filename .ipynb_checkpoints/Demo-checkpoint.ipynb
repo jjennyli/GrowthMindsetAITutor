{
 "cells": [
  {
   "cell_type": "markdown",
   "id": "4f696747",
   "metadata": {},
   "source": [
    "# Initial Setup"
   ]
  },
  {
   "cell_type": "code",
   "execution_count": 1,
   "id": "26f95fd5",
   "metadata": {},
   "outputs": [],
   "source": [
    "#imports\n",
    "import pandas as pd\n",
    "import numpy as np\n",
    "from nltk.corpus import stopwords\n",
    "from nltk.tokenize import word_tokenize\n",
    "from sklearn.feature_extraction.text import TfidfVectorizer\n",
    "from sklearn.feature_selection import chi2\n",
    "from sklearn.model_selection import train_test_split\n",
    "from sklearn.feature_extraction.text import CountVectorizer\n",
    "from sklearn.feature_extraction.text import TfidfTransformer\n",
    "from sklearn.naive_bayes import MultinomialNB\n",
    "import joblib"
   ]
  },
  {
   "cell_type": "markdown",
   "id": "85129721",
   "metadata": {},
   "source": [
    "## Loading the Data"
   ]
  },
  {
   "cell_type": "code",
   "execution_count": 2,
   "id": "102a10fe",
   "metadata": {},
   "outputs": [
    {
     "data": {
      "text/html": [
       "<div>\n",
       "<style scoped>\n",
       "    .dataframe tbody tr th:only-of-type {\n",
       "        vertical-align: middle;\n",
       "    }\n",
       "\n",
       "    .dataframe tbody tr th {\n",
       "        vertical-align: top;\n",
       "    }\n",
       "\n",
       "    .dataframe thead th {\n",
       "        text-align: right;\n",
       "    }\n",
       "</style>\n",
       "<table border=\"1\" class=\"dataframe\">\n",
       "  <thead>\n",
       "    <tr style=\"text-align: right;\">\n",
       "      <th></th>\n",
       "      <th>id</th>\n",
       "      <th>context</th>\n",
       "      <th>correctness</th>\n",
       "      <th>growth</th>\n",
       "      <th>text</th>\n",
       "    </tr>\n",
       "  </thead>\n",
       "  <tbody>\n",
       "    <tr>\n",
       "      <th>0</th>\n",
       "      <td>1</td>\n",
       "      <td>homework</td>\n",
       "      <td>correct</td>\n",
       "      <td>8</td>\n",
       "      <td>good job answering all the questions</td>\n",
       "    </tr>\n",
       "    <tr>\n",
       "      <th>1</th>\n",
       "      <td>2</td>\n",
       "      <td>paper</td>\n",
       "      <td>correct</td>\n",
       "      <td>9</td>\n",
       "      <td>you are a natural writer</td>\n",
       "    </tr>\n",
       "    <tr>\n",
       "      <th>2</th>\n",
       "      <td>3</td>\n",
       "      <td>homework</td>\n",
       "      <td>partial</td>\n",
       "      <td>5</td>\n",
       "      <td>received</td>\n",
       "    </tr>\n",
       "    <tr>\n",
       "      <th>3</th>\n",
       "      <td>4</td>\n",
       "      <td>paper</td>\n",
       "      <td>incorrect</td>\n",
       "      <td>2</td>\n",
       "      <td>bad writing</td>\n",
       "    </tr>\n",
       "    <tr>\n",
       "      <th>4</th>\n",
       "      <td>5</td>\n",
       "      <td>homework</td>\n",
       "      <td>correct</td>\n",
       "      <td>8</td>\n",
       "      <td>keep up the good work!</td>\n",
       "    </tr>\n",
       "  </tbody>\n",
       "</table>\n",
       "</div>"
      ],
      "text/plain": [
       "   id   context correctness  growth                                  text\n",
       "0   1  homework     correct       8  good job answering all the questions\n",
       "1   2     paper     correct       9              you are a natural writer\n",
       "2   3  homework     partial       5                              received\n",
       "3   4     paper   incorrect       2                           bad writing\n",
       "4   5  homework     correct       8                keep up the good work!"
      ]
     },
     "execution_count": 2,
     "metadata": {},
     "output_type": "execute_result"
    }
   ],
   "source": [
    "# Load data\n",
    "df = pd.read_csv('TextData/phrases.csv', low_memory=False)\n",
    "df.head(5)"
   ]
  },
  {
   "cell_type": "markdown",
   "id": "0e297050",
   "metadata": {},
   "source": [
    "# Build Classifier"
   ]
  },
  {
   "cell_type": "code",
   "execution_count": 3,
   "id": "a822811a",
   "metadata": {},
   "outputs": [],
   "source": [
    "tfidf = TfidfVectorizer(sublinear_tf=True, min_df=5, norm='l2', encoding='latin-1', ngram_range=(1, 2), stop_words='english')\n",
    "\n",
    "features = tfidf.fit_transform(df['text']).toarray()\n",
    "\n",
    "def get_trained(col):\n",
    "    x_train, x_test, y_train, y_test = train_test_split(df['text'], df[col], random_state = 0)\n",
    "    return (x_train, y_train)"
   ]
  },
  {
   "cell_type": "code",
   "execution_count": 4,
   "id": "4f0d9b46",
   "metadata": {},
   "outputs": [
    {
     "data": {
      "text/html": [
       "<div>\n",
       "<style scoped>\n",
       "    .dataframe tbody tr th:only-of-type {\n",
       "        vertical-align: middle;\n",
       "    }\n",
       "\n",
       "    .dataframe tbody tr th {\n",
       "        vertical-align: top;\n",
       "    }\n",
       "\n",
       "    .dataframe thead th {\n",
       "        text-align: right;\n",
       "    }\n",
       "</style>\n",
       "<table border=\"1\" class=\"dataframe\">\n",
       "  <thead>\n",
       "    <tr style=\"text-align: right;\">\n",
       "      <th></th>\n",
       "      <th>id</th>\n",
       "      <th>context</th>\n",
       "      <th>correctness</th>\n",
       "      <th>growth</th>\n",
       "      <th>text</th>\n",
       "      <th>growth_mindset</th>\n",
       "    </tr>\n",
       "  </thead>\n",
       "  <tbody>\n",
       "    <tr>\n",
       "      <th>0</th>\n",
       "      <td>1</td>\n",
       "      <td>homework</td>\n",
       "      <td>correct</td>\n",
       "      <td>8</td>\n",
       "      <td>good job answering all the questions</td>\n",
       "      <td>True</td>\n",
       "    </tr>\n",
       "    <tr>\n",
       "      <th>1</th>\n",
       "      <td>2</td>\n",
       "      <td>paper</td>\n",
       "      <td>correct</td>\n",
       "      <td>9</td>\n",
       "      <td>you are a natural writer</td>\n",
       "      <td>True</td>\n",
       "    </tr>\n",
       "    <tr>\n",
       "      <th>2</th>\n",
       "      <td>3</td>\n",
       "      <td>homework</td>\n",
       "      <td>partial</td>\n",
       "      <td>5</td>\n",
       "      <td>received</td>\n",
       "      <td>True</td>\n",
       "    </tr>\n",
       "    <tr>\n",
       "      <th>3</th>\n",
       "      <td>4</td>\n",
       "      <td>paper</td>\n",
       "      <td>incorrect</td>\n",
       "      <td>2</td>\n",
       "      <td>bad writing</td>\n",
       "      <td>False</td>\n",
       "    </tr>\n",
       "    <tr>\n",
       "      <th>4</th>\n",
       "      <td>5</td>\n",
       "      <td>homework</td>\n",
       "      <td>correct</td>\n",
       "      <td>8</td>\n",
       "      <td>keep up the good work!</td>\n",
       "      <td>True</td>\n",
       "    </tr>\n",
       "  </tbody>\n",
       "</table>\n",
       "</div>"
      ],
      "text/plain": [
       "   id   context correctness  growth                                  text  \\\n",
       "0   1  homework     correct       8  good job answering all the questions   \n",
       "1   2     paper     correct       9              you are a natural writer   \n",
       "2   3  homework     partial       5                              received   \n",
       "3   4     paper   incorrect       2                           bad writing   \n",
       "4   5  homework     correct       8                keep up the good work!   \n",
       "\n",
       "   growth_mindset  \n",
       "0            True  \n",
       "1            True  \n",
       "2            True  \n",
       "3           False  \n",
       "4            True  "
      ]
     },
     "execution_count": 4,
     "metadata": {},
     "output_type": "execute_result"
    }
   ],
   "source": [
    "#generating growth mindset check\n",
    "threshold = 5\n",
    "temp = df['growth'].apply(lambda x : x>=threshold)\n",
    "df.insert(loc=df.shape[1],column='growth_mindset',value=temp)\n",
    "df.head()"
   ]
  },
  {
   "cell_type": "code",
   "execution_count": 5,
   "id": "12b8ab58",
   "metadata": {},
   "outputs": [],
   "source": [
    "#training for context\n",
    "ctx_train = get_trained('context')\n",
    "ctx_count_vect = CountVectorizer()\n",
    "ctx_x_train_counts = ctx_count_vect.fit_transform(ctx_train[0])\n",
    "ctx_tfidf_transformer = TfidfTransformer()\n",
    "ctx_x_train_tfidf = ctx_tfidf_transformer.fit_transform(ctx_x_train_counts)\n",
    "ctx_clf = MultinomialNB().fit(ctx_x_train_tfidf, ctx_train[1])\n",
    "\n",
    "#training for correctness\n",
    "cor_train = get_trained('correctness')\n",
    "cor_count_vect = CountVectorizer()\n",
    "cor_x_train_counts = cor_count_vect.fit_transform(cor_train[0])\n",
    "cor_tfidf_transformer = TfidfTransformer()\n",
    "cor_x_train_tfidf = cor_tfidf_transformer.fit_transform(cor_x_train_counts)\n",
    "cor_clf = MultinomialNB().fit(cor_x_train_tfidf, cor_train[1])\n",
    "\n",
    "#training for growth mindset\n",
    "grow_train = get_trained('growth_mindset')\n",
    "grow_count_vect = CountVectorizer()\n",
    "grow_x_train_counts = grow_count_vect.fit_transform(grow_train[0])\n",
    "grow_tfidf_transformer = TfidfTransformer()\n",
    "grow_x_train_tfidf = grow_tfidf_transformer.fit_transform(grow_x_train_counts)\n",
    "grow_clf = MultinomialNB().fit(grow_x_train_tfidf, grow_train[1])\n",
    "\n",
    "def classify(text):\n",
    "    return {'text':text,\n",
    "        'context':ctx_clf.predict(ctx_count_vect.transform([text]))[0],\n",
    "           'correctness':cor_clf.predict(cor_count_vect.transform([text]))[0],\n",
    "            'growth':grow_clf.predict(grow_count_vect.transform([text]))[0]}"
   ]
  },
  {
   "cell_type": "code",
   "execution_count": 6,
   "id": "83f71e0b",
   "metadata": {
    "scrolled": true
   },
   "outputs": [
    {
     "name": "stdout",
     "output_type": "stream",
     "text": [
      "{'text': 'terrible paper', 'context': 'paper', 'correctness': 'incorrect', 'growth': False}\n"
     ]
    }
   ],
   "source": [
    "print(classify('terrible paper'))"
   ]
  },
  {
   "cell_type": "code",
   "execution_count": 7,
   "id": "bb5bb03c",
   "metadata": {},
   "outputs": [
    {
     "name": "stdout",
     "output_type": "stream",
     "text": [
      "{'text': 'great paper', 'context': 'paper', 'correctness': 'correct', 'growth': True}\n"
     ]
    }
   ],
   "source": [
    "print(classify('great paper'))"
   ]
  },
  {
   "cell_type": "code",
   "execution_count": 8,
   "id": "b891e1eb",
   "metadata": {},
   "outputs": [
    {
     "data": {
      "text/plain": [
       "['model.pkl']"
      ]
     },
     "execution_count": 8,
     "metadata": {},
     "output_type": "execute_result"
    }
   ],
   "source": [
    "#export\n",
    "joblib.dump([ctx_train, cor_train, grow_train], 'model.pkl', compress=9)"
   ]
  },
  {
   "cell_type": "markdown",
   "id": "6745d600",
   "metadata": {},
   "source": [
    "# Growth Mindset Score"
   ]
  },
  {
   "cell_type": "code",
   "execution_count": 9,
   "id": "b721682c",
   "metadata": {
    "scrolled": true
   },
   "outputs": [],
   "source": [
    "def get_rec_from_score(phrase):\n",
    "    filtered = df.loc[df['context'] == classify(phrase)['context']]\n",
    "    filtered = filtered.loc[df['correctness'] == classify(phrase)['correctness']]\n",
    "    return filtered.sort_values('growth', ascending=False)"
   ]
  },
  {
   "cell_type": "code",
   "execution_count": 10,
   "id": "a8a8fad7",
   "metadata": {},
   "outputs": [
    {
     "data": {
      "text/html": [
       "<div>\n",
       "<style scoped>\n",
       "    .dataframe tbody tr th:only-of-type {\n",
       "        vertical-align: middle;\n",
       "    }\n",
       "\n",
       "    .dataframe tbody tr th {\n",
       "        vertical-align: top;\n",
       "    }\n",
       "\n",
       "    .dataframe thead th {\n",
       "        text-align: right;\n",
       "    }\n",
       "</style>\n",
       "<table border=\"1\" class=\"dataframe\">\n",
       "  <thead>\n",
       "    <tr style=\"text-align: right;\">\n",
       "      <th></th>\n",
       "      <th>id</th>\n",
       "      <th>context</th>\n",
       "      <th>correctness</th>\n",
       "      <th>growth</th>\n",
       "      <th>text</th>\n",
       "      <th>growth_mindset</th>\n",
       "    </tr>\n",
       "  </thead>\n",
       "  <tbody>\n",
       "    <tr>\n",
       "      <th>51</th>\n",
       "      <td>52</td>\n",
       "      <td>paper</td>\n",
       "      <td>incorrect</td>\n",
       "      <td>10</td>\n",
       "      <td>Although paper is not upto par, you put a good...</td>\n",
       "      <td>True</td>\n",
       "    </tr>\n",
       "    <tr>\n",
       "      <th>52</th>\n",
       "      <td>53</td>\n",
       "      <td>paper</td>\n",
       "      <td>incorrect</td>\n",
       "      <td>9</td>\n",
       "      <td>The paper doesn't meet expectations, but I am ...</td>\n",
       "      <td>True</td>\n",
       "    </tr>\n",
       "    <tr>\n",
       "      <th>48</th>\n",
       "      <td>49</td>\n",
       "      <td>paper</td>\n",
       "      <td>incorrect</td>\n",
       "      <td>8</td>\n",
       "      <td>Thank you for submitting. You need to focus on...</td>\n",
       "      <td>True</td>\n",
       "    </tr>\n",
       "    <tr>\n",
       "      <th>23</th>\n",
       "      <td>24</td>\n",
       "      <td>paper</td>\n",
       "      <td>incorrect</td>\n",
       "      <td>4</td>\n",
       "      <td>follow the rubric!</td>\n",
       "      <td>False</td>\n",
       "    </tr>\n",
       "    <tr>\n",
       "      <th>19</th>\n",
       "      <td>20</td>\n",
       "      <td>paper</td>\n",
       "      <td>incorrect</td>\n",
       "      <td>3</td>\n",
       "      <td>Poor grammar</td>\n",
       "      <td>False</td>\n",
       "    </tr>\n",
       "  </tbody>\n",
       "</table>\n",
       "</div>"
      ],
      "text/plain": [
       "    id context correctness  growth  \\\n",
       "51  52   paper   incorrect      10   \n",
       "52  53   paper   incorrect       9   \n",
       "48  49   paper   incorrect       8   \n",
       "23  24   paper   incorrect       4   \n",
       "19  20   paper   incorrect       3   \n",
       "\n",
       "                                                 text  growth_mindset  \n",
       "51  Although paper is not upto par, you put a good...            True  \n",
       "52  The paper doesn't meet expectations, but I am ...            True  \n",
       "48  Thank you for submitting. You need to focus on...            True  \n",
       "23                                 follow the rubric!           False  \n",
       "19                                       Poor grammar           False  "
      ]
     },
     "execution_count": 10,
     "metadata": {},
     "output_type": "execute_result"
    }
   ],
   "source": [
    "get_rec_from_score('terrible paper').head(5)"
   ]
  },
  {
   "cell_type": "markdown",
   "id": "5d04a9a2",
   "metadata": {},
   "source": [
    "# Phrase Similarity\n"
   ]
  },
  {
   "cell_type": "code",
   "execution_count": 11,
   "id": "f57a6425",
   "metadata": {},
   "outputs": [],
   "source": [
    "sw = stopwords.words('english') \n",
    "def get_cosine_dist(A, B):\n",
    "    a_tokens = word_tokenize(A)\n",
    "    \n",
    "    b_tokens = word_tokenize(B)\n",
    "    l1 =[];l2 =[]\n",
    "    a_set = {w for w in a_tokens if not w in sw} \n",
    "    b_set = {w for w in b_tokens if not w in sw}\n",
    "    rvector = a_set.union(b_set)\n",
    "    for w in rvector:\n",
    "        if w in a_set: l1.append(1) \n",
    "        else: l1.append(0)\n",
    "        if w in b_set: l2.append(1)\n",
    "        else: l2.append(0)\n",
    "    c = 0\n",
    "    for i in range(len(rvector)):\n",
    "        c+= l1[i]*l2[i]\n",
    "    return c / float((sum(l1)*sum(l2))**0.5)\n"
   ]
  },
  {
   "cell_type": "code",
   "execution_count": 12,
   "id": "7ac0d50d",
   "metadata": {
    "scrolled": true
   },
   "outputs": [
    {
     "data": {
      "text/plain": [
       "0.5"
      ]
     },
     "execution_count": 12,
     "metadata": {},
     "output_type": "execute_result"
    }
   ],
   "source": [
    "get_cosine_dist(\"hello world\", \"hi world\")\n"
   ]
  },
  {
   "cell_type": "code",
   "execution_count": 13,
   "id": "a9fa5e4d",
   "metadata": {},
   "outputs": [
    {
     "data": {
      "text/plain": [
       "0.6666666666666666"
      ]
     },
     "execution_count": 13,
     "metadata": {},
     "output_type": "execute_result"
    }
   ],
   "source": [
    "get_cosine_dist(\"I like Java\", \"I hate Java\")\n"
   ]
  },
  {
   "cell_type": "code",
   "execution_count": 14,
   "id": "4323f3f8",
   "metadata": {},
   "outputs": [
    {
     "data": {
      "text/plain": [
       "0.0"
      ]
     },
     "execution_count": 14,
     "metadata": {},
     "output_type": "execute_result"
    }
   ],
   "source": [
    "get_cosine_dist(\"Some other school\", \"Kean University\")"
   ]
  },
  {
   "cell_type": "code",
   "execution_count": 15,
   "id": "a764aae8",
   "metadata": {},
   "outputs": [],
   "source": [
    "def get_rec_from_similairty(phrase):\n",
    "    filtered = df.loc[df['context'] == classify(phrase)['context']]\n",
    "    filtered = filtered.loc[df['correctness'] == classify(phrase)['correctness']]\n",
    "    temp = filtered['text'].apply(lambda x: get_cosine_dist(x, B=phrase))\n",
    "    filtered.insert(loc=filtered.shape[1],column='cosine_dist',value=temp)\n",
    "    return filtered.sort_values('cosine_dist', ascending=False)\n"
   ]
  },
  {
   "cell_type": "code",
   "execution_count": 16,
   "id": "fd8dc954",
   "metadata": {},
   "outputs": [
    {
     "data": {
      "text/html": [
       "<div>\n",
       "<style scoped>\n",
       "    .dataframe tbody tr th:only-of-type {\n",
       "        vertical-align: middle;\n",
       "    }\n",
       "\n",
       "    .dataframe tbody tr th {\n",
       "        vertical-align: top;\n",
       "    }\n",
       "\n",
       "    .dataframe thead th {\n",
       "        text-align: right;\n",
       "    }\n",
       "</style>\n",
       "<table border=\"1\" class=\"dataframe\">\n",
       "  <thead>\n",
       "    <tr style=\"text-align: right;\">\n",
       "      <th></th>\n",
       "      <th>id</th>\n",
       "      <th>context</th>\n",
       "      <th>correctness</th>\n",
       "      <th>growth</th>\n",
       "      <th>text</th>\n",
       "      <th>growth_mindset</th>\n",
       "      <th>cosine_dist</th>\n",
       "    </tr>\n",
       "  </thead>\n",
       "  <tbody>\n",
       "    <tr>\n",
       "      <th>11</th>\n",
       "      <td>12</td>\n",
       "      <td>paper</td>\n",
       "      <td>incorrect</td>\n",
       "      <td>1</td>\n",
       "      <td>terrible paper</td>\n",
       "      <td>False</td>\n",
       "      <td>1.000000</td>\n",
       "    </tr>\n",
       "    <tr>\n",
       "      <th>39</th>\n",
       "      <td>40</td>\n",
       "      <td>paper</td>\n",
       "      <td>incorrect</td>\n",
       "      <td>2</td>\n",
       "      <td>bad paper</td>\n",
       "      <td>False</td>\n",
       "      <td>0.500000</td>\n",
       "    </tr>\n",
       "    <tr>\n",
       "      <th>56</th>\n",
       "      <td>57</td>\n",
       "      <td>paper</td>\n",
       "      <td>incorrect</td>\n",
       "      <td>1</td>\n",
       "      <td>awful paper</td>\n",
       "      <td>False</td>\n",
       "      <td>0.500000</td>\n",
       "    </tr>\n",
       "    <tr>\n",
       "      <th>43</th>\n",
       "      <td>44</td>\n",
       "      <td>paper</td>\n",
       "      <td>incorrect</td>\n",
       "      <td>1</td>\n",
       "      <td>your paper is bad, and you should feel bad</td>\n",
       "      <td>False</td>\n",
       "      <td>0.353553</td>\n",
       "    </tr>\n",
       "    <tr>\n",
       "      <th>55</th>\n",
       "      <td>56</td>\n",
       "      <td>paper</td>\n",
       "      <td>incorrect</td>\n",
       "      <td>1</td>\n",
       "      <td>I don't like this paper</td>\n",
       "      <td>False</td>\n",
       "      <td>0.353553</td>\n",
       "    </tr>\n",
       "  </tbody>\n",
       "</table>\n",
       "</div>"
      ],
      "text/plain": [
       "    id context correctness  growth  \\\n",
       "11  12   paper   incorrect       1   \n",
       "39  40   paper   incorrect       2   \n",
       "56  57   paper   incorrect       1   \n",
       "43  44   paper   incorrect       1   \n",
       "55  56   paper   incorrect       1   \n",
       "\n",
       "                                          text  growth_mindset  cosine_dist  \n",
       "11                              terrible paper           False     1.000000  \n",
       "39                                   bad paper           False     0.500000  \n",
       "56                                 awful paper           False     0.500000  \n",
       "43  your paper is bad, and you should feel bad           False     0.353553  \n",
       "55                     I don't like this paper           False     0.353553  "
      ]
     },
     "execution_count": 16,
     "metadata": {},
     "output_type": "execute_result"
    }
   ],
   "source": [
    "get_rec_from_similairty('terrible paper').head(5)"
   ]
  },
  {
   "cell_type": "markdown",
   "id": "9cca700f",
   "metadata": {},
   "source": [
    "# Final Reccomendation"
   ]
  },
  {
   "cell_type": "code",
   "execution_count": 17,
   "id": "5da18580",
   "metadata": {},
   "outputs": [],
   "source": [
    "def get_recs(phrase):\n",
    "    filtered = df.loc[df['context'] == classify(phrase)['context']]\n",
    "    filtered = filtered.loc[df['correctness'] == classify(phrase)['correctness']]\n",
    "    temp = filtered['text'].apply(lambda x: get_cosine_dist(x, B=phrase))\n",
    "    filtered.insert(loc=filtered.shape[1],column='cosine_dist',value=temp)\n",
    "    return filtered.sort_values(['growth','cosine_dist'], ascending=(False, False))\n"
   ]
  },
  {
   "cell_type": "code",
   "execution_count": 18,
   "id": "20b21496",
   "metadata": {
    "scrolled": true
   },
   "outputs": [
    {
     "data": {
      "text/plain": [
       "'Although paper is not upto par, you put a good effort'"
      ]
     },
     "execution_count": 18,
     "metadata": {},
     "output_type": "execute_result"
    }
   ],
   "source": [
    "get_recs('terrible paper').head(1)['text'].item()"
   ]
  },
  {
   "cell_type": "code",
   "execution_count": null,
   "id": "18ce4f66",
   "metadata": {},
   "outputs": [],
   "source": []
  }
 ],
 "metadata": {
  "kernelspec": {
   "display_name": "Python 3",
   "language": "python",
   "name": "python3"
  },
  "language_info": {
   "codemirror_mode": {
    "name": "ipython",
    "version": 3
   },
   "file_extension": ".py",
   "mimetype": "text/x-python",
   "name": "python",
   "nbconvert_exporter": "python",
   "pygments_lexer": "ipython3",
   "version": "3.9.5"
  }
 },
 "nbformat": 4,
 "nbformat_minor": 5
}
